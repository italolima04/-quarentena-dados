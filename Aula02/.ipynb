{
  "nbformat": 4,
  "nbformat_minor": 0,
  "metadata": {
    "colab": {
      "name": "QuarentenaDados_2.ipynb",
      "provenance": [],
      "collapsed_sections": [],
      "authorship_tag": "ABX9TyO4pfjyNo/XtqAJus/kCWlp",
      "include_colab_link": true
    },
    "kernelspec": {
      "name": "python3",
      "display_name": "Python 3"
    }
  },
  "cells": [
    {
      "cell_type": "markdown",
      "metadata": {
        "id": "view-in-github",
        "colab_type": "text"
      },
      "source": [
        "<a href=\"https://colab.research.google.com/github/italolima04/-quarentena-dados/blob/master/Aula02/.ipynb\" target=\"_parent\"><img src=\"https://colab.research.google.com/assets/colab-badge.svg\" alt=\"Open In Colab\"/></a>"
      ]
    },
    {
      "cell_type": "markdown",
      "metadata": {
        "id": "QcfKQxX1sbNp",
        "colab_type": "text"
      },
      "source": [
        "# Importando Bibliotecas e Dados"
      ]
    },
    {
      "cell_type": "code",
      "metadata": {
        "id": "cS7utpXFneQs",
        "colab_type": "code",
        "colab": {}
      },
      "source": [
        "import pandas as pd\n",
        "import numpy as np\n",
        "import matplotlib.pyplot as plt\n",
        "import seaborn as sns"
      ],
      "execution_count": 0,
      "outputs": []
    },
    {
      "cell_type": "code",
      "metadata": {
        "id": "pyX_Up-P_gkA",
        "colab_type": "code",
        "colab": {}
      },
      "source": [
        "#Lendo dados no formato CSV e passando para um Data Frame.\n",
        "grades = pd.read_csv('https://raw.githubusercontent.com/alura-cursos/introducao-a-data-science/master/aula0/ml-latest-small/ratings.csv')\n"
      ],
      "execution_count": 0,
      "outputs": []
    },
    {
      "cell_type": "code",
      "metadata": {
        "id": "J2io20FE_m2d",
        "colab_type": "code",
        "colab": {}
      },
      "source": [
        "movies = pd.read_csv('https://raw.githubusercontent.com/alura-cursos/introducao-a-data-science/master/aula0/ml-latest-small/movies.csv')\n"
      ],
      "execution_count": 0,
      "outputs": []
    },
    {
      "cell_type": "markdown",
      "metadata": {
        "id": "q_5viA38trdS",
        "colab_type": "text"
      },
      "source": [
        "# Visualizando os Dados"
      ]
    },
    {
      "cell_type": "code",
      "metadata": {
        "id": "BQvH7wFdshLU",
        "colab_type": "code",
        "outputId": "32edb49f-f548-4eb7-edaf-b338b1606984",
        "colab": {
          "base_uri": "https://localhost:8080/",
          "height": 198
        }
      },
      "source": [
        "#Visualizar as 5 primeiras linhas do Data Frame.\n",
        "grades.head()"
      ],
      "execution_count": 0,
      "outputs": [
        {
          "output_type": "execute_result",
          "data": {
            "text/html": [
              "<div>\n",
              "<style scoped>\n",
              "    .dataframe tbody tr th:only-of-type {\n",
              "        vertical-align: middle;\n",
              "    }\n",
              "\n",
              "    .dataframe tbody tr th {\n",
              "        vertical-align: top;\n",
              "    }\n",
              "\n",
              "    .dataframe thead th {\n",
              "        text-align: right;\n",
              "    }\n",
              "</style>\n",
              "<table border=\"1\" class=\"dataframe\">\n",
              "  <thead>\n",
              "    <tr style=\"text-align: right;\">\n",
              "      <th></th>\n",
              "      <th>userId</th>\n",
              "      <th>movieId</th>\n",
              "      <th>rating</th>\n",
              "      <th>timestamp</th>\n",
              "    </tr>\n",
              "  </thead>\n",
              "  <tbody>\n",
              "    <tr>\n",
              "      <th>0</th>\n",
              "      <td>1</td>\n",
              "      <td>1</td>\n",
              "      <td>4.0</td>\n",
              "      <td>964982703</td>\n",
              "    </tr>\n",
              "    <tr>\n",
              "      <th>1</th>\n",
              "      <td>1</td>\n",
              "      <td>3</td>\n",
              "      <td>4.0</td>\n",
              "      <td>964981247</td>\n",
              "    </tr>\n",
              "    <tr>\n",
              "      <th>2</th>\n",
              "      <td>1</td>\n",
              "      <td>6</td>\n",
              "      <td>4.0</td>\n",
              "      <td>964982224</td>\n",
              "    </tr>\n",
              "    <tr>\n",
              "      <th>3</th>\n",
              "      <td>1</td>\n",
              "      <td>47</td>\n",
              "      <td>5.0</td>\n",
              "      <td>964983815</td>\n",
              "    </tr>\n",
              "    <tr>\n",
              "      <th>4</th>\n",
              "      <td>1</td>\n",
              "      <td>50</td>\n",
              "      <td>5.0</td>\n",
              "      <td>964982931</td>\n",
              "    </tr>\n",
              "  </tbody>\n",
              "</table>\n",
              "</div>"
            ],
            "text/plain": [
              "   userId  movieId  rating  timestamp\n",
              "0       1        1     4.0  964982703\n",
              "1       1        3     4.0  964981247\n",
              "2       1        6     4.0  964982224\n",
              "3       1       47     5.0  964983815\n",
              "4       1       50     5.0  964982931"
            ]
          },
          "metadata": {
            "tags": []
          },
          "execution_count": 4
        }
      ]
    },
    {
      "cell_type": "code",
      "metadata": {
        "id": "fN-de7inszc_",
        "colab_type": "code",
        "outputId": "6847192b-e01e-4bfe-dc6d-22e8fdd7352a",
        "colab": {
          "base_uri": "https://localhost:8080/",
          "height": 198
        }
      },
      "source": [
        "movies.head()"
      ],
      "execution_count": 0,
      "outputs": [
        {
          "output_type": "execute_result",
          "data": {
            "text/html": [
              "<div>\n",
              "<style scoped>\n",
              "    .dataframe tbody tr th:only-of-type {\n",
              "        vertical-align: middle;\n",
              "    }\n",
              "\n",
              "    .dataframe tbody tr th {\n",
              "        vertical-align: top;\n",
              "    }\n",
              "\n",
              "    .dataframe thead th {\n",
              "        text-align: right;\n",
              "    }\n",
              "</style>\n",
              "<table border=\"1\" class=\"dataframe\">\n",
              "  <thead>\n",
              "    <tr style=\"text-align: right;\">\n",
              "      <th></th>\n",
              "      <th>movieId</th>\n",
              "      <th>title</th>\n",
              "      <th>genres</th>\n",
              "    </tr>\n",
              "  </thead>\n",
              "  <tbody>\n",
              "    <tr>\n",
              "      <th>0</th>\n",
              "      <td>1</td>\n",
              "      <td>Toy Story (1995)</td>\n",
              "      <td>Adventure|Animation|Children|Comedy|Fantasy</td>\n",
              "    </tr>\n",
              "    <tr>\n",
              "      <th>1</th>\n",
              "      <td>2</td>\n",
              "      <td>Jumanji (1995)</td>\n",
              "      <td>Adventure|Children|Fantasy</td>\n",
              "    </tr>\n",
              "    <tr>\n",
              "      <th>2</th>\n",
              "      <td>3</td>\n",
              "      <td>Grumpier Old Men (1995)</td>\n",
              "      <td>Comedy|Romance</td>\n",
              "    </tr>\n",
              "    <tr>\n",
              "      <th>3</th>\n",
              "      <td>4</td>\n",
              "      <td>Waiting to Exhale (1995)</td>\n",
              "      <td>Comedy|Drama|Romance</td>\n",
              "    </tr>\n",
              "    <tr>\n",
              "      <th>4</th>\n",
              "      <td>5</td>\n",
              "      <td>Father of the Bride Part II (1995)</td>\n",
              "      <td>Comedy</td>\n",
              "    </tr>\n",
              "  </tbody>\n",
              "</table>\n",
              "</div>"
            ],
            "text/plain": [
              "   movieId  ...                                       genres\n",
              "0        1  ...  Adventure|Animation|Children|Comedy|Fantasy\n",
              "1        2  ...                   Adventure|Children|Fantasy\n",
              "2        3  ...                               Comedy|Romance\n",
              "3        4  ...                         Comedy|Drama|Romance\n",
              "4        5  ...                                       Comedy\n",
              "\n",
              "[5 rows x 3 columns]"
            ]
          },
          "metadata": {
            "tags": []
          },
          "execution_count": 5
        }
      ]
    },
    {
      "cell_type": "markdown",
      "metadata": {
        "id": "lNTJfpFntwA8",
        "colab_type": "text"
      },
      "source": [
        "# Filtrando os Dados"
      ]
    },
    {
      "cell_type": "code",
      "metadata": {
        "id": "vpqE-WPO_wZg",
        "colab_type": "code",
        "colab": {}
      },
      "source": [
        "#Utilizando método query para filtrar pelo 'movieId' a coluna notas de um filme em específico\n",
        "grades_movie_1 = grades.query('movieId == 1')['rating']"
      ],
      "execution_count": 0,
      "outputs": []
    },
    {
      "cell_type": "code",
      "metadata": {
        "id": "2_QJDZvk_zJl",
        "colab_type": "code",
        "colab": {}
      },
      "source": [
        "grades_movie_2 = grades.query('movieId == 2')['rating']"
      ],
      "execution_count": 0,
      "outputs": []
    },
    {
      "cell_type": "code",
      "metadata": {
        "id": "vUhjNVNxtlsu",
        "colab_type": "code",
        "colab": {}
      },
      "source": [
        "grades_movie_32 = grades.query('movieId == 32')['rating']"
      ],
      "execution_count": 0,
      "outputs": []
    },
    {
      "cell_type": "markdown",
      "metadata": {
        "id": "F1uxf282t0RO",
        "colab_type": "text"
      },
      "source": [
        "# Plotando os Gráficos Correspondentes"
      ]
    },
    {
      "cell_type": "code",
      "metadata": {
        "id": "9u296kY_tJPL",
        "colab_type": "code",
        "outputId": "53999463-9e57-48fd-d088-f5ecd86ff230",
        "colab": {
          "base_uri": "https://localhost:8080/",
          "height": 281
        }
      },
      "source": [
        "#Plotar o Gráfico, com parâmetro específico, nesse caso um histograma.\n",
        "grades_movie_1.plot(kind='hist')\n",
        "#Atribuir título para o Gráfico utilizando Matplotlib\n",
        "plt.title(\"Avaliações para o Filme: Toy Story\")\n",
        "#Exibir o Gráfico\n",
        "plt.show()"
      ],
      "execution_count": 0,
      "outputs": [
        {
          "output_type": "display_data",
          "data": {
            "image/png": "[encoded data removed]",
            "text/plain": [
              "<Figure size 432x288 with 1 Axes>"
            ]
          },
          "metadata": {
            "tags": [],
            "needs_background": "light"
          }
        }
      ]
    },
    {
      "cell_type": "code",
      "metadata": {
        "id": "1SXS5n42tcOE",
        "colab_type": "code",
        "outputId": "c0af56ad-1e12-4ca4-9ca0-81f500471a68",
        "colab": {
          "base_uri": "https://localhost:8080/",
          "height": 281
        }
      },
      "source": [
        "grades_movie_2.plot(kind='hist')\n",
        "plt.title(\"Avaliações para o Filme: Jumanji\")\n",
        "plt.show()"
      ],
      "execution_count": 0,
      "outputs": [
        {
          "output_type": "display_data",
          "data": {
            "image/png": "[encoded data removed]",
            "text/plain": [
              "<Figure size 432x288 with 1 Axes>"
            ]
          },
          "metadata": {
            "tags": [],
            "needs_background": "light"
          }
        }
      ]
    },
    {
      "cell_type": "code",
      "metadata": {
        "id": "GFMGwmUnAXH1",
        "colab_type": "code",
        "outputId": "0f50b2eb-6a4b-4156-a544-1fffbdd11fa4",
        "colab": {
          "base_uri": "https://localhost:8080/",
          "height": 281
        }
      },
      "source": [
        "grades_movie_32.plot(kind='hist')\n",
        "plt.title(\"Avaliações para o Filme: Twelve Monkeys\")\n",
        "plt.show()"
      ],
      "execution_count": 0,
      "outputs": [
        {
          "output_type": "display_data",
          "data": {
            "image/png": "[encoded data removed]",
            "text/plain": [
              "<Figure size 432x288 with 1 Axes>"
            ]
          },
          "metadata": {
            "tags": [],
            "needs_background": "light"
          }
        }
      ]
    },
    {
      "cell_type": "markdown",
      "metadata": {
        "id": "p7vuMy-Ht5kM",
        "colab_type": "text"
      },
      "source": [
        "# Descrevendo os Dados"
      ]
    },
    {
      "cell_type": "code",
      "metadata": {
        "id": "SYEpyZ0W__W9",
        "colab_type": "code",
        "outputId": "ed54684c-9c82-462c-83ec-0af1dba909e6",
        "colab": {
          "base_uri": "https://localhost:8080/",
          "height": 170
        }
      },
      "source": [
        "#Método do Pandas p/ descrever estatisticamente um Data Frame. \n",
        "#Dados: Quantidade de valores, média, desvio padrão, entrada miníma, 1º quartil, 2º quartil (mediana), 3º quartil e entrada máxima\n",
        "grades_movie_1.describe()"
      ],
      "execution_count": 0,
      "outputs": [
        {
          "output_type": "execute_result",
          "data": {
            "text/plain": [
              "count    215.000000\n",
              "mean       3.920930\n",
              "std        0.834859\n",
              "min        0.500000\n",
              "25%        3.500000\n",
              "50%        4.000000\n",
              "75%        4.500000\n",
              "max        5.000000\n",
              "Name: rating, dtype: float64"
            ]
          },
          "metadata": {
            "tags": []
          },
          "execution_count": 14
        }
      ]
    },
    {
      "cell_type": "code",
      "metadata": {
        "id": "FBd8DvraABMw",
        "colab_type": "code",
        "outputId": "625e5d26-26a7-4937-ab82-2d3e8f7ee3bc",
        "colab": {
          "base_uri": "https://localhost:8080/",
          "height": 170
        }
      },
      "source": [
        "grades_movie_2.describe()"
      ],
      "execution_count": 0,
      "outputs": [
        {
          "output_type": "execute_result",
          "data": {
            "text/plain": [
              "count    110.000000\n",
              "mean       3.431818\n",
              "std        0.881713\n",
              "min        0.500000\n",
              "25%        3.000000\n",
              "50%        3.500000\n",
              "75%        4.000000\n",
              "max        5.000000\n",
              "Name: rating, dtype: float64"
            ]
          },
          "metadata": {
            "tags": []
          },
          "execution_count": 19
        }
      ]
    },
    {
      "cell_type": "code",
      "metadata": {
        "id": "1rXgqeKjAPzY",
        "colab_type": "code",
        "outputId": "d832c754-c75d-4f7a-da30-ff12fcfe6b09",
        "colab": {
          "base_uri": "https://localhost:8080/",
          "height": 170
        }
      },
      "source": [
        "grades_movie_32.describe()"
      ],
      "execution_count": 0,
      "outputs": [
        {
          "output_type": "execute_result",
          "data": {
            "text/plain": [
              "count    177.000000\n",
              "mean       3.983051\n",
              "std        0.790387\n",
              "min        1.000000\n",
              "25%        3.500000\n",
              "50%        4.000000\n",
              "75%        5.000000\n",
              "max        5.000000\n",
              "Name: rating, dtype: float64"
            ]
          },
          "metadata": {
            "tags": []
          },
          "execution_count": 17
        }
      ]
    },
    {
      "cell_type": "markdown",
      "metadata": {
        "id": "uVW-FsrUuDuZ",
        "colab_type": "text"
      },
      "source": [
        "# Manipulando os Dados"
      ]
    },
    {
      "cell_type": "code",
      "metadata": {
        "id": "2x3zUbm5C-2X",
        "colab_type": "code",
        "outputId": "d63675b5-f21c-4cfb-f62a-236aa6745586",
        "colab": {
          "base_uri": "https://localhost:8080/",
          "height": 450
        }
      },
      "source": [
        "#Método groupby do Pandas, para agrupar os dados pelo 'movieId' e utilizar o método para calcular a média nas colunas.\n",
        "grades.groupby('movieId').mean()\n"
      ],
      "execution_count": 0,
      "outputs": [
        {
          "output_type": "execute_result",
          "data": {
            "text/html": [
              "<div>\n",
              "<style scoped>\n",
              "    .dataframe tbody tr th:only-of-type {\n",
              "        vertical-align: middle;\n",
              "    }\n",
              "\n",
              "    .dataframe tbody tr th {\n",
              "        vertical-align: top;\n",
              "    }\n",
              "\n",
              "    .dataframe thead th {\n",
              "        text-align: right;\n",
              "    }\n",
              "</style>\n",
              "<table border=\"1\" class=\"dataframe\">\n",
              "  <thead>\n",
              "    <tr style=\"text-align: right;\">\n",
              "      <th></th>\n",
              "      <th>userId</th>\n",
              "      <th>rating</th>\n",
              "      <th>timestamp</th>\n",
              "    </tr>\n",
              "    <tr>\n",
              "      <th>movieId</th>\n",
              "      <th></th>\n",
              "      <th></th>\n",
              "      <th></th>\n",
              "    </tr>\n",
              "  </thead>\n",
              "  <tbody>\n",
              "    <tr>\n",
              "      <th>1</th>\n",
              "      <td>306.530233</td>\n",
              "      <td>3.920930</td>\n",
              "      <td>1.129835e+09</td>\n",
              "    </tr>\n",
              "    <tr>\n",
              "      <th>2</th>\n",
              "      <td>329.554545</td>\n",
              "      <td>3.431818</td>\n",
              "      <td>1.135805e+09</td>\n",
              "    </tr>\n",
              "    <tr>\n",
              "      <th>3</th>\n",
              "      <td>283.596154</td>\n",
              "      <td>3.259615</td>\n",
              "      <td>1.005110e+09</td>\n",
              "    </tr>\n",
              "    <tr>\n",
              "      <th>4</th>\n",
              "      <td>219.857143</td>\n",
              "      <td>2.357143</td>\n",
              "      <td>8.985789e+08</td>\n",
              "    </tr>\n",
              "    <tr>\n",
              "      <th>5</th>\n",
              "      <td>299.571429</td>\n",
              "      <td>3.071429</td>\n",
              "      <td>9.926643e+08</td>\n",
              "    </tr>\n",
              "    <tr>\n",
              "      <th>...</th>\n",
              "      <td>...</td>\n",
              "      <td>...</td>\n",
              "      <td>...</td>\n",
              "    </tr>\n",
              "    <tr>\n",
              "      <th>193581</th>\n",
              "      <td>184.000000</td>\n",
              "      <td>4.000000</td>\n",
              "      <td>1.537109e+09</td>\n",
              "    </tr>\n",
              "    <tr>\n",
              "      <th>193583</th>\n",
              "      <td>184.000000</td>\n",
              "      <td>3.500000</td>\n",
              "      <td>1.537110e+09</td>\n",
              "    </tr>\n",
              "    <tr>\n",
              "      <th>193585</th>\n",
              "      <td>184.000000</td>\n",
              "      <td>3.500000</td>\n",
              "      <td>1.537110e+09</td>\n",
              "    </tr>\n",
              "    <tr>\n",
              "      <th>193587</th>\n",
              "      <td>184.000000</td>\n",
              "      <td>3.500000</td>\n",
              "      <td>1.537110e+09</td>\n",
              "    </tr>\n",
              "    <tr>\n",
              "      <th>193609</th>\n",
              "      <td>331.000000</td>\n",
              "      <td>4.000000</td>\n",
              "      <td>1.537158e+09</td>\n",
              "    </tr>\n",
              "  </tbody>\n",
              "</table>\n",
              "<p>9724 rows × 3 columns</p>\n",
              "</div>"
            ],
            "text/plain": [
              "             userId    rating     timestamp\n",
              "movieId                                    \n",
              "1        306.530233  3.920930  1.129835e+09\n",
              "2        329.554545  3.431818  1.135805e+09\n",
              "3        283.596154  3.259615  1.005110e+09\n",
              "4        219.857143  2.357143  8.985789e+08\n",
              "5        299.571429  3.071429  9.926643e+08\n",
              "...             ...       ...           ...\n",
              "193581   184.000000  4.000000  1.537109e+09\n",
              "193583   184.000000  3.500000  1.537110e+09\n",
              "193585   184.000000  3.500000  1.537110e+09\n",
              "193587   184.000000  3.500000  1.537110e+09\n",
              "193609   331.000000  4.000000  1.537158e+09\n",
              "\n",
              "[9724 rows x 3 columns]"
            ]
          },
          "metadata": {
            "tags": []
          },
          "execution_count": 20
        }
      ]
    },
    {
      "cell_type": "markdown",
      "metadata": {
        "id": "-6VQ3ryFud_R",
        "colab_type": "text"
      },
      "source": [
        "Observe que a média não é uma medida interessante para todas as colunas acima, assim alguns dados podem não fazer sentido."
      ]
    },
    {
      "cell_type": "markdown",
      "metadata": {
        "id": "6WSvKYCCun8P",
        "colab_type": "text"
      },
      "source": [
        "# Generalizando o Processo"
      ]
    },
    {
      "cell_type": "markdown",
      "metadata": {
        "id": "03R6fo3MusXn",
        "colab_type": "text"
      },
      "source": [
        "Vimos que o processo acima foi repetido para diferentes filmes.\n",
        "\n",
        "A partir do Id de cada filme, os dados foram filtrados, manipulados, plotados em forma de gráfico e descritos estatísticamente."
      ]
    },
    {
      "cell_type": "markdown",
      "metadata": {
        "id": "M2Sz5bEUu-fW",
        "colab_type": "text"
      },
      "source": [
        "**Com isso, é interessante criar uma função que automatize e generalize o processo.**"
      ]
    },
    {
      "cell_type": "code",
      "metadata": {
        "id": "zHaak8FRDjIe",
        "colab_type": "code",
        "colab": {}
      },
      "source": [
        "#Função que recebe como parâmetro um número, simbolizando o Id do filme em que se deseja trabalhar.\n",
        "def plot_movie(n):\n",
        "  #Filtra os dados pelo id, buscando as notas na respectica coluna.\n",
        "  grades_movie = grades.query(f'movieId == {n}')['rating']\n",
        "  #Aplica configurações para que sejam plotados dois tipos de gráficos, histograma e o box plot. \n",
        "  grades_movie.plot(kind='hist')\n",
        "  plt.show()\n",
        "  grades_movie.plot.box()\n",
        "  plt.show()\n",
        "  #Retorna as medidas estatísticas que descrevem os dados.\n",
        "  return grades_movie.describe()"
      ],
      "execution_count": 0,
      "outputs": []
    },
    {
      "cell_type": "code",
      "metadata": {
        "id": "QmFLpxShDvbD",
        "colab_type": "code",
        "outputId": "11e33c6d-3be3-4a7c-c113-29cfc23aa825",
        "colab": {
          "base_uri": "https://localhost:8080/",
          "height": 666
        }
      },
      "source": [
        "#Chamada da função, com o filme de Id 919\n",
        "plot_movie(919)"
      ],
      "execution_count": 0,
      "outputs": [
        {
          "output_type": "display_data",
          "data": {
            "image/png": "[encoded data removed]",
            "text/plain": [
              "<Figure size 432x288 with 1 Axes>"
            ]
          },
          "metadata": {
            "tags": [],
            "needs_background": "light"
          }
        },
        {
          "output_type": "display_data",
          "data": {
            "image/png": "[encoded data removed]",
            "text/plain": [
              "<Figure size 432x288 with 1 Axes>"
            ]
          },
          "metadata": {
            "tags": [],
            "needs_background": "light"
          }
        },
        {
          "output_type": "execute_result",
          "data": {
            "text/plain": [
              "count    92.000000\n",
              "mean      3.880435\n",
              "std       1.025418\n",
              "min       1.000000\n",
              "25%       3.000000\n",
              "50%       4.000000\n",
              "75%       5.000000\n",
              "max       5.000000\n",
              "Name: rating, dtype: float64"
            ]
          },
          "metadata": {
            "tags": []
          },
          "execution_count": 40
        }
      ]
    },
    {
      "cell_type": "markdown",
      "metadata": {
        "id": "3c4v8lvdwQMD",
        "colab_type": "text"
      },
      "source": [
        "# Aplicando Biblioteca Seaborn"
      ]
    },
    {
      "cell_type": "code",
      "metadata": {
        "id": "H_siD0JnGVUc",
        "colab_type": "code",
        "outputId": "09e0d294-ed00-43f0-a18f-d1c05c0be636",
        "colab": {
          "base_uri": "https://localhost:8080/",
          "height": 296
        }
      },
      "source": [
        "#Método da biblioteca Seaborn para plotar o gráfico de caixa e bigodes (box-plot)\n",
        "sns.boxplot(data= grades.query('movieId in [1, 2, 919, 46578]'), x='movieId', y='rating')"
      ],
      "execution_count": 0,
      "outputs": [
        {
          "output_type": "execute_result",
          "data": {
            "text/plain": [
              "<matplotlib.axes._subplots.AxesSubplot at 0x7fc33229aac8>"
            ]
          },
          "metadata": {
            "tags": []
          },
          "execution_count": 43
        },
        {
          "output_type": "display_data",
          "data": {
            "image/png": "[encoded data removed]",
            "text/plain": [
              "<Figure size 432x288 with 1 Axes>"
            ]
          },
          "metadata": {
            "tags": [],
            "needs_background": "light"
          }
        }
      ]
    },
    {
      "cell_type": "markdown",
      "metadata": {
        "id": "ULHjhQXKwo_q",
        "colab_type": "text"
      },
      "source": [
        "# Desafios"
      ]
    },
    {
      "cell_type": "markdown",
      "metadata": {
        "id": "MwykbT7-xroF",
        "colab_type": "text"
      },
      "source": [
        "**Desafio 1:**\n",
        "\n",
        "Colocar Valores em cima de cada Barra, do gráfico."
      ]
    },
    {
      "cell_type": "markdown",
      "metadata": {
        "colab_type": "text",
        "id": "CUE-7sPBx2ep"
      },
      "source": [
        "**Desafio 2:**\n",
        "\n",
        "Rotacionar os Ticks em 45º Graus."
      ]
    },
    {
      "cell_type": "code",
      "metadata": {
        "id": "kmeGJv-l8ecv",
        "colab_type": "code",
        "outputId": "4d7eb565-223c-4ff5-dc1e-d94a3e881948",
        "colab": {
          "base_uri": "https://localhost:8080/",
          "height": 290
        }
      },
      "source": [
        "grades_movie_1.plot(kind='hist')\n",
        "plt.title(\"Avaliações para o Filme: Toy Story\")\n",
        "plt.xticks([0.5, 1.0, 1.5, 2.0, 2.5, 3.0, 3.5, 4.0, 4.5, 5.0], rotation=45)\n",
        "plt.show()"
      ],
      "execution_count": 0,
      "outputs": [
        {
          "output_type": "display_data",
          "data": {
            "image/png": "[encoded data removed]",
            "text/plain": [
              "<Figure size 432x288 with 1 Axes>"
            ]
          },
          "metadata": {
            "tags": [],
            "needs_background": "light"
          }
        }
      ]
    },
    {
      "cell_type": "code",
      "metadata": {
        "id": "KBuGB0LD8TEf",
        "colab_type": "code",
        "outputId": "7ee96c29-53bd-4256-9419-1257691a66d1",
        "colab": {
          "base_uri": "https://localhost:8080/",
          "height": 290
        }
      },
      "source": [
        "grades_movie_2.plot(kind='hist')\n",
        "plt.title(\"Avaliações para o Filme: Jumanji\")\n",
        "plt.xticks([0.5, 1.0, 1.5, 2.0, 2.5, 3.0, 3.5, 4.0, 4.5, 5.0], rotation=45)\n",
        "plt.show()"
      ],
      "execution_count": 0,
      "outputs": [
        {
          "output_type": "display_data",
          "data": {
            "image/png": "[encoded data removed]",
            "text/plain": [
              "<Figure size 432x288 with 1 Axes>"
            ]
          },
          "metadata": {
            "tags": [],
            "needs_background": "light"
          }
        }
      ]
    },
    {
      "cell_type": "code",
      "metadata": {
        "id": "OrydGpNu8d3V",
        "colab_type": "code",
        "outputId": "14ae3d14-018e-4684-ccbf-4cbca74fc64b",
        "colab": {
          "base_uri": "https://localhost:8080/",
          "height": 290
        }
      },
      "source": [
        "grades_movie_32.plot(kind='hist')\n",
        "plt.title(\"Avaliações para o Filme: Twelve Monkeys\")\n",
        "plt.xticks([0.5, 1.0, 1.5, 2.0, 2.5, 3.0, 3.5, 4.0, 4.5, 5.0], rotation=45)\n",
        "plt.show()"
      ],
      "execution_count": 0,
      "outputs": [
        {
          "output_type": "display_data",
          "data": {
            "image/png": "[encoded data removed]",
            "text/plain": [
              "<Figure size 432x288 with 1 Axes>"
            ]
          },
          "metadata": {
            "tags": [],
            "needs_background": "light"
          }
        }
      ]
    },
    {
      "cell_type": "markdown",
      "metadata": {
        "colab_type": "text",
        "id": "iDrSSmWsx3dq"
      },
      "source": [
        "**Desafio 3:**\n",
        "\n",
        "Comparar filmes com notas próximas e achar distribuições diferentes. "
      ]
    },
    {
      "cell_type": "markdown",
      "metadata": {
        "colab_type": "text",
        "id": "q1zUHhbbx3l2"
      },
      "source": [
        "**Desafio 4:**\n",
        "\n",
        "Descobrir os 10 filmes mais votados e plotar os seus respectivos gráficos Box Plot"
      ]
    },
    {
      "cell_type": "markdown",
      "metadata": {
        "colab_type": "text",
        "id": "8fpdVj7Lx3v2"
      },
      "source": [
        "**Desafio 5:**\n",
        "\n",
        "Indexar o tamanho do Box Plot e botar o nome do filme no tick"
      ]
    },
    {
      "cell_type": "markdown",
      "metadata": {
        "colab_type": "text",
        "id": "2dwFxHBxx4K3"
      },
      "source": [
        "**Desafio 6:**\n",
        "\n",
        "Colocar Valores em cima de cada Barra, do gráfico."
      ]
    },
    {
      "cell_type": "markdown",
      "metadata": {
        "colab_type": "text",
        "id": "jqkTsHPbycVC"
      },
      "source": [
        "**Desafio 7:**\n",
        "\n",
        "Calcular média, moda e mediana de filmes com média entre 3.5 e 5"
      ]
    },
    {
      "cell_type": "markdown",
      "metadata": {
        "colab_type": "text",
        "id": "LC_rTsoMydJe"
      },
      "source": [
        "**Desafio 8:**\n",
        "\n",
        "Plotar o Histograma e o Box Plot lado a lado"
      ]
    },
    {
      "cell_type": "markdown",
      "metadata": {
        "colab_type": "text",
        "id": "MU5oTVS_yt5C"
      },
      "source": [
        "**Desafio Final:**\n",
        "\n",
        "Plotar um gráfico com as Notas médias por Ano."
      ]
    }
  ]
}